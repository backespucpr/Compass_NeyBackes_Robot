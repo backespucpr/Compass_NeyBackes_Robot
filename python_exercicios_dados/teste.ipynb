{
 "cells": [
  {
   "cell_type": "code",
   "execution_count": 1,
   "metadata": {},
   "outputs": [],
   "source": [
    "import pandas as pd\n",
    "\n",
    "#guardando o csv na variavel df (dataframe)\n",
    "df = pd.read_csv('/workspace/Compass_NeyBackes_Robot/python_exercicios_dados/arquivo.csv')"
   ]
  },
  {
   "cell_type": "code",
   "execution_count": 2,
   "metadata": {},
   "outputs": [
    {
     "name": "stdout",
     "output_type": "stream",
     "text": [
      "    Year  Age                 Name                                  Movie\n",
      "0   1928   44        Emil Jannings  The Last Command The Way of All Flesh\n",
      "1   1929   41        Warner Baxter                         In Old Arizona\n",
      "2   1930   62        George Arliss                               Disraeli\n",
      "3   1931   53     Lionel Barrymore                            A Free Soul\n",
      "4   1932   47        Wallace Beery                              The Champ\n",
      "..   ...  ...                  ...                                    ...\n",
      "84  2012   39        Jean Dujardin                             The Artist\n",
      "85  2013   55     Daniel Day-Lewis                                Lincoln\n",
      "86  2014   44  Matthew McConaughey                     Dallas Buyers Club\n",
      "87  2015   33     Eddie Redmayne\"\"             The Theory of Everything\"\"\n",
      "88  2016   41    Leonardo DiCaprio                           The Revenant\n",
      "\n",
      "[89 rows x 4 columns]\n"
     ]
    }
   ],
   "source": [
    "print(df)"
   ]
  },
  {
   "cell_type": "code",
   "execution_count": 3,
   "metadata": {},
   "outputs": [
    {
     "data": {
      "text/plain": [
       "0     1928\n",
       "1     1929\n",
       "2     1930\n",
       "3     1931\n",
       "4     1932\n",
       "      ... \n",
       "84    2012\n",
       "85    2013\n",
       "86    2014\n",
       "87    2015\n",
       "88    2016\n",
       "Name: Year, Length: 89, dtype: int64"
      ]
     },
     "execution_count": 3,
     "metadata": {},
     "output_type": "execute_result"
    }
   ],
   "source": [
    "df['Year']"
   ]
  }
 ],
 "metadata": {
  "kernelspec": {
   "display_name": "Python 3.8.13 64-bit ('3.8.13')",
   "language": "python",
   "name": "python3"
  },
  "language_info": {
   "codemirror_mode": {
    "name": "ipython",
    "version": 3
   },
   "file_extension": ".py",
   "mimetype": "text/x-python",
   "name": "python",
   "nbconvert_exporter": "python",
   "pygments_lexer": "ipython3",
   "version": "3.8.13"
  },
  "orig_nbformat": 4,
  "vscode": {
   "interpreter": {
    "hash": "110cc1dee26208153f2972f08a2ad52b6a56238dc66d48e87fb757ef2996db56"
   }
  }
 },
 "nbformat": 4,
 "nbformat_minor": 2
}
